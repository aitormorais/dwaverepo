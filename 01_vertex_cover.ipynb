{
  "cells": [
    {
      "cell_type": "markdown",
      "metadata": {},
      "source": [
        "<div>\n",
        "<img src=\"https://www.nebrija.com/images/logos/logotipo-universidad-nebrija.jpg\" width=\"200\">\n",
        "</div>\n",
        "\n",
        "**MODELOS DE PROGRAMACION: MODELO ADIABATICO** -\n",
        "Prof: Carmen Pellicer Lostao"
      ]
    },
    {
      "cell_type": "markdown",
      "metadata": {
        "id": "lI0lddnqHsI-"
      },
      "source": [
        "# FIRST OCEAN EXAMPLE: VERTEX COVER"
      ]
    },
    {
      "cell_type": "markdown",
      "metadata": {
        "id": "-MGUX7ylRPCK"
      },
      "source": [
        "Many different real-world problems can be formulated as instances of classified graph problems. Some of these are hard and the best currently known algorithms for solution may not scale well. Quantum computing might provide better solutions. In this example, vertex cover is a hard problem that can be solved on D-Wave systems.\n",
        "\n",
        "Let’s solve a graph problem in Dwave. It is interesting because Dwave has libraries to formulate graph problems automatically, it formulates the problem as a QM automatically for us.\n",
        "\n",
        "In particular we will solve the **Minimum Vertex Cover** problem, which can be formulated as a BQM and can be solved in DWAVE QPU with the Quantum **DWaveSampler()**\n",
        "\n",
        "We can import `dwave` libraries though it is not needed if they are also imported in our virtual environment"
      ]
    },
    {
      "cell_type": "code",
      "execution_count": 1,
      "metadata": {
        "id": "kvqafHh5HsJB"
      },
      "outputs": [],
      "source": [
        "import dwave"
      ]
    },
    {
      "cell_type": "code",
      "execution_count": 2,
      "metadata": {
        "id": "kiy_o4ypTHDh"
      },
      "outputs": [
        {
          "data": {
            "text/plain": [
              "1701951816.4482954"
            ]
          },
          "execution_count": 2,
          "metadata": {},
          "output_type": "execute_result"
        }
      ],
      "source": [
        "#import time libs to compare time measurements\n",
        "import time\n",
        "time.time()   #time in secs since the epoch (the point where the time starts on all platforms-> January 1, 1970, 00:00:00 UTC (Universal Time Coordinated))"
      ]
    },
    {
      "cell_type": "markdown",
      "metadata": {
        "id": "lckehWUYHsJD"
      },
      "source": [
        "## Vertex Cover\n",
        "\n",
        "Formally, a [vertex cover](https://en.wikipedia.org/wiki/Vertex_cover) V′ of an undirected graph G=(V,E) is a subset of V such that u,v∈E ⇒ u∈V′ or v∈V′, that is to say it is a set of vertices V′ where every edge has at least one endpoint in the vertex cover V′. Such a set is said to cover the edges of V. The upper figure shows two examples of vertex covers, with some vertex cover V′ marked in red.\n",
        "\n",
        "A minimum vertex cover is a vertex cover of smallest possible size. The vertex cover number T is the size of a minimum vertex cover, i.e. T=|V′|.\n",
        "\n",
        "Possible applications of this problem:\n",
        "\n",
        "*   In Telecomm networks for traffic monitoring: placing limited numbers of traffic-monitoring equipment on routers in a telecommunication network.\n",
        "*   In Public Transport networks for traffic monitoring: placing cameras at crossroads to monitor total traffic with minimum investment.\n",
        "*   In Computer Network Security or Social Networks: develop strategies to  design optimal strategies for protecting the network against virus or fake news attacks in real-time protecting some strategic nodes in the network."
      ]
    },
    {
      "cell_type": "markdown",
      "metadata": {
        "id": "vBtQPd7STbph"
      },
      "source": [
        "### Solving on a D-Wave System"
      ]
    },
    {
      "cell_type": "markdown",
      "metadata": {
        "id": "E74Y2yIcTALZ"
      },
      "source": [
        "The purpose of this example is to help a new user to submit a problem to a D-Wave system using Ocean tools with little configuration or coding.\n",
        "\n",
        "The Ocean tool `dnx.min_vertex_cover()` internally builds a BQM with lowest values (“ground states”) that correspond to a minimum vertex cover and uses our selected sampler to solve it.\n",
        "\n",
        "We user two samplers in this tool: \n",
        "\n",
        "- the `DWaveSampler()` to find the solution in a D-Wave system (QPU)\n",
        "- a classical somlber `ExactSolver()` to find the solution in the local CPU.\n",
        "\n",
        "and compare this methods to solve the problem."
      ]
    },
    {
      "cell_type": "markdown",
      "metadata": {},
      "source": [
        "When we use a sampler from Ocean software’s dwave-system to solve on a D-Wave system, in addition to `DWaveSampler()`, we must use `EmbeddingComposite()`, which maps unstructured problems to the graph structure of the selected sampler, a process known as **minor-embedding**: our problem graph must be mapped to the QPU’s numerically indexed qubits."
      ]
    },
    {
      "cell_type": "markdown",
      "metadata": {},
      "source": [
        "In this problem we compare execution in CPU and QPU measuring execution time and memory requiered to find a solution.\n",
        "\n",
        "We also monitor our QPU expending in Leap Dashboard (Direct QPU Total)"
      ]
    },
    {
      "cell_type": "code",
      "execution_count": 3,
      "metadata": {
        "id": "TJ9SdyGvHsJE",
        "outputId": "29e373b2-25b1-48d3-b962-bcf96086ccc4"
      },
      "outputs": [
        {
          "data": {
            "text/plain": [
              "None"
            ]
          },
          "metadata": {},
          "output_type": "display_data"
        },
        {
          "ename": "ValueError",
          "evalue": "API token not defined",
          "output_type": "error",
          "traceback": [
            "\u001b[0;31m---------------------------------------------------------------------------\u001b[0m",
            "\u001b[0;31mValueError\u001b[0m                                Traceback (most recent call last)",
            "\u001b[1;32m/workspaces/dwaverepo/01_vertex_cover.ipynb Celda 11\u001b[0m line \u001b[0;36m1\n\u001b[1;32m     <a href='vscode-notebook-cell://codespaces%2Bpotential-spoon-j7qgv5rr6w3xwv/workspaces/dwaverepo/01_vertex_cover.ipynb#X13sdnNjb2RlLXJlbW90ZQ%3D%3D?line=11'>12</a>\u001b[0m \u001b[39m# Resolución sobre qpu\u001b[39;00m\n\u001b[1;32m     <a href='vscode-notebook-cell://codespaces%2Bpotential-spoon-j7qgv5rr6w3xwv/workspaces/dwaverepo/01_vertex_cover.ipynb#X13sdnNjb2RlLXJlbW90ZQ%3D%3D?line=12'>13</a>\u001b[0m t_init\u001b[39m=\u001b[39mtime\u001b[39m.\u001b[39mtime()\n\u001b[0;32m---> <a href='vscode-notebook-cell://codespaces%2Bpotential-spoon-j7qgv5rr6w3xwv/workspaces/dwaverepo/01_vertex_cover.ipynb#X13sdnNjb2RlLXJlbW90ZQ%3D%3D?line=13'>14</a>\u001b[0m sampler \u001b[39m=\u001b[39m EmbeddingComposite(DWaveSampler())\n\u001b[1;32m     <a href='vscode-notebook-cell://codespaces%2Bpotential-spoon-j7qgv5rr6w3xwv/workspaces/dwaverepo/01_vertex_cover.ipynb#X13sdnNjb2RlLXJlbW90ZQ%3D%3D?line=14'>15</a>\u001b[0m \u001b[39mprint\u001b[39m(dnx\u001b[39m.\u001b[39mmin_vertex_cover(s5, sampler))\n\u001b[1;32m     <a href='vscode-notebook-cell://codespaces%2Bpotential-spoon-j7qgv5rr6w3xwv/workspaces/dwaverepo/01_vertex_cover.ipynb#X13sdnNjb2RlLXJlbW90ZQ%3D%3D?line=15'>16</a>\u001b[0m \u001b[39mprint\u001b[39m(\u001b[39m'\u001b[39m\u001b[39mQsolver time=\u001b[39m\u001b[39m'\u001b[39m,time\u001b[39m.\u001b[39mtime()\u001b[39m-\u001b[39mt_init)\n",
            "File \u001b[0;32m~/.python/current/lib/python3.10/site-packages/dwave/system/samplers/dwave_sampler.py:183\u001b[0m, in \u001b[0;36mDWaveSampler.__init__\u001b[0;34m(self, failover, retry_interval, **config)\u001b[0m\n\u001b[1;32m    180\u001b[0m \u001b[39mself\u001b[39m\u001b[39m.\u001b[39mretry_interval \u001b[39m=\u001b[39m retry_interval\n\u001b[1;32m    181\u001b[0m \u001b[39mself\u001b[39m\u001b[39m.\u001b[39m_solver_penalty \u001b[39m=\u001b[39m defaultdict(\u001b[39mint\u001b[39m)\n\u001b[0;32m--> 183\u001b[0m \u001b[39mself\u001b[39m\u001b[39m.\u001b[39mclient \u001b[39m=\u001b[39m Client\u001b[39m.\u001b[39;49mfrom_config(\u001b[39m*\u001b[39;49m\u001b[39m*\u001b[39;49mconfig)\n\u001b[1;32m    184\u001b[0m \u001b[39mself\u001b[39m\u001b[39m.\u001b[39msolver \u001b[39m=\u001b[39m \u001b[39mself\u001b[39m\u001b[39m.\u001b[39m_get_solver(penalty\u001b[39m=\u001b[39m\u001b[39mself\u001b[39m\u001b[39m.\u001b[39m_solver_penalty)\n",
            "File \u001b[0;32m~/.python/current/lib/python3.10/site-packages/dwave/cloud/client/base.py:430\u001b[0m, in \u001b[0;36mClient.from_config\u001b[0;34m(cls, config_file, profile, client, **kwargs)\u001b[0m\n\u001b[1;32m    427\u001b[0m _client \u001b[39m=\u001b[39m config\u001b[39m.\u001b[39mpop(\u001b[39m'\u001b[39m\u001b[39mclient\u001b[39m\u001b[39m'\u001b[39m, \u001b[39mNone\u001b[39;00m) \u001b[39mor\u001b[39;00m \u001b[39m'\u001b[39m\u001b[39mbase\u001b[39m\u001b[39m'\u001b[39m\n\u001b[1;32m    429\u001b[0m logger\u001b[39m.\u001b[39mdebug(\u001b[39m\"\u001b[39m\u001b[39mCreating \u001b[39m\u001b[39m%s\u001b[39;00m\u001b[39m.Client() with: \u001b[39m\u001b[39m%r\u001b[39;00m\u001b[39m\"\u001b[39m, _client, config)\n\u001b[0;32m--> 430\u001b[0m \u001b[39mreturn\u001b[39;00m _clients[_client](\u001b[39m*\u001b[39;49m\u001b[39m*\u001b[39;49mconfig)\n",
            "File \u001b[0;32m~/.python/current/lib/python3.10/site-packages/dwave/cloud/events.py:105\u001b[0m, in \u001b[0;36mdispatches_events.__call__.<locals>.wrapped\u001b[0;34m(*pargs, **kwargs)\u001b[0m\n\u001b[1;32m    103\u001b[0m dispatch_event(\u001b[39mself\u001b[39m\u001b[39m.\u001b[39mbefore_eventname, obj\u001b[39m=\u001b[39mobj, args\u001b[39m=\u001b[39margs)\n\u001b[1;32m    104\u001b[0m \u001b[39mtry\u001b[39;00m:\n\u001b[0;32m--> 105\u001b[0m     rval \u001b[39m=\u001b[39m fn(\u001b[39m*\u001b[39;49mpargs, \u001b[39m*\u001b[39;49m\u001b[39m*\u001b[39;49mkwargs)\n\u001b[1;32m    106\u001b[0m \u001b[39mexcept\u001b[39;00m \u001b[39mException\u001b[39;00m \u001b[39mas\u001b[39;00m exc:\n\u001b[1;32m    107\u001b[0m     dispatch_event(\u001b[39mself\u001b[39m\u001b[39m.\u001b[39mafter_eventname, obj\u001b[39m=\u001b[39mobj, args\u001b[39m=\u001b[39margs, exception\u001b[39m=\u001b[39mexc)\n",
            "File \u001b[0;32m~/.python/current/lib/python3.10/site-packages/dwave/cloud/client/base.py:488\u001b[0m, in \u001b[0;36mClient.__init__\u001b[0;34m(self, *args, **kwargs)\u001b[0m\n\u001b[1;32m    485\u001b[0m     \u001b[39mraise\u001b[39;00m \u001b[39mValueError\u001b[39;00m(\u001b[39m\"\u001b[39m\u001b[39mAPI endpoint not defined\u001b[39m\u001b[39m\"\u001b[39m)\n\u001b[1;32m    487\u001b[0m \u001b[39mif\u001b[39;00m \u001b[39mnot\u001b[39;00m \u001b[39mself\u001b[39m\u001b[39m.\u001b[39mconfig\u001b[39m.\u001b[39mtoken:\n\u001b[0;32m--> 488\u001b[0m     \u001b[39mraise\u001b[39;00m \u001b[39mValueError\u001b[39;00m(\u001b[39m\"\u001b[39m\u001b[39mAPI token not defined\u001b[39m\u001b[39m\"\u001b[39m)\n\u001b[1;32m    490\u001b[0m \u001b[39m# Create session for main thread only\u001b[39;00m\n\u001b[1;32m    491\u001b[0m \u001b[39mself\u001b[39m\u001b[39m.\u001b[39msession \u001b[39m=\u001b[39m \u001b[39mself\u001b[39m\u001b[39m.\u001b[39mcreate_session()\n",
            "\u001b[0;31mValueError\u001b[0m: API token not defined"
          ]
        },
        {
          "data": {
            "image/png": "[encoded data removed]",
            "text/plain": [
              "<Figure size 640x480 with 1 Axes>"
            ]
          },
          "metadata": {},
          "output_type": "display_data"
        }
      ],
      "source": [
        "# Importación de Librerias\n",
        "import networkx as nx\n",
        "import dwave_networkx as dnx\n",
        "from dwave.system.samplers import DWaveSampler\n",
        "from dwave.system.composites import EmbeddingComposite\n",
        "from dimod.reference.samplers import ExactSolver\n",
        "\n",
        "# Creación del Grafo de 5 nodos  -> incrementar a 100 y ver que pasa\n",
        "s5 = nx.star_graph(5)\n",
        "display(nx.draw(s5,with_labels=True))\n",
        "\n",
        "# Resolución sobre qpu\n",
        "t_init=time.time()\n",
        "sampler = EmbeddingComposite(DWaveSampler())\n",
        "print(dnx.min_vertex_cover(s5, sampler))\n",
        "print('Qsolver time=',time.time()-t_init)\n",
        "\n",
        "# Resolución sobre un Computador Clásico\n",
        "t_init=time.time()\n",
        "sampler = ExactSolver()\n",
        "print(dnx.min_vertex_cover(s5, sampler))\n",
        "print('Exactsolver time=',time.time()-t_init)\n"
      ]
    },
    {
      "cell_type": "markdown",
      "metadata": {
        "id": "I2EJOyIjHsJF"
      },
      "source": [
        "## Additional exercices\n",
        "\n",
        "Check NetworkX libaries and try other [graph generators](https://networkx.org/documentation/stable/reference/generators.html), such as:\n",
        "\n",
        "- the `nx.wheel_graph()` with a 5-node wheel graph\n",
        "- the `nx.circular_ladder_graph()` with a 5-node ladder graph\n",
        "- the `nx.complete_graph()` with a fully connected graph (clique)\n",
        "\n",
        "Find the min vertex cover for these graphs with the exact solver and dwave QPU solver\n",
        "\n",
        "Consider measuring CPU and QPU times and increasing the number of nodes\n",
        "\n",
        "\n"
      ]
    },
    {
      "cell_type": "code",
      "execution_count": null,
      "metadata": {
        "id": "8OzzUUuRHsJH",
        "outputId": "f8b897b7-b9db-43c4-8502-8a9d934ee961"
      },
      "outputs": [],
      "source": []
    },
    {
      "cell_type": "markdown",
      "metadata": {},
      "source": [
        "Build an arbitrary Graph with NetworkX yand find the **Minimum Vertex Cover**"
      ]
    },
    {
      "cell_type": "code",
      "execution_count": null,
      "metadata": {
        "id": "tzkop6CHHsJH"
      },
      "outputs": [],
      "source": []
    }
  ],
  "metadata": {
    "colab": {
      "provenance": []
    },
    "kernelspec": {
      "display_name": "Python 3",
      "language": "python",
      "name": "python3"
    },
    "language_info": {
      "codemirror_mode": {
        "name": "ipython",
        "version": 3
      },
      "file_extension": ".py",
      "mimetype": "text/x-python",
      "name": "python",
      "nbconvert_exporter": "python",
      "pygments_lexer": "ipython3",
      "version": "3.10.13"
    }
  },
  "nbformat": 4,
  "nbformat_minor": 0
}
